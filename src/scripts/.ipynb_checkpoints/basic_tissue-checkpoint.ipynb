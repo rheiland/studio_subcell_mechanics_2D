{
 "cells": [
  {
   "cell_type": "code",
   "execution_count": 8,
   "id": "c5a5b506",
   "metadata": {},
   "outputs": [],
   "source": [
    "import numpy as np \n",
    "import matplotlib.pyplot as plt \n",
    "\n",
    "def draw_membrane( start=-100 , end=100, h_shift=0 , period = 20 , amplitude=50, spacing = 1 , a_type=0 , a_ID=0 ):\n",
    "    x = start; \n",
    "    y = 0; \n",
    "    \n",
    "    alpha = ( np.pi * 2 ) / period; \n",
    "    \n",
    "    X = [start]\n",
    "    Y = [1.5*amplitude + amplitude*np.sin(alpha*(start-h_shift)) ]\n",
    "    A_type = [a_type]\n",
    "    A_ID = [a_ID]\n",
    "    \n",
    "    array_size = np.ceil( (end-start)/spacing ); \n",
    "\n",
    "    while( x < end ):\n",
    "        fprime = alpha*amplitude*np.cos( alpha*(x-h_shift) ) \n",
    "        dx = spacing / np.sqrt( 1 + fprime**2 )\n",
    "        \n",
    "        # how far to travel \n",
    "        x += dx;  \n",
    "        # exact y at this location \n",
    "        y = 1.5*amplitude + amplitude * np.sin( (x-h_shift)*alpha  ); \n",
    "        \n",
    "        X = np.concatenate( [X,[x]])\n",
    "        Y = np.concatenate( [Y,[y]])\n",
    "        A_type = np.concatenate( [A_type,[a_type]])\n",
    "        A_ID = np.concatenate( [A_ID,[a_ID]])\n",
    "        \n",
    "    return X,Y,A_type,A_ID\n",
    "\n",
    "\n",
    "def draw_capillary( start=-100 , end=100, h_shift=0 , period1 = 20 , period2 = 5 , amplitude1=50, amplitude2 = 5, spacing = 1 , a_type=0 , a_ID=0 ):\n",
    "    x = start; \n",
    "    y = 0; \n",
    "    \n",
    "    alpha1 = ( np.pi * 2 ) / period1; \n",
    "    alpha2 = ( np.pi * 2 ) / period2; \n",
    "    print(alpha1)\n",
    "    print(alpha2)\n",
    "    print(amplitude1)\n",
    "    print(amplitude2)\n",
    "    \n",
    "    X = [start]\n",
    "    Y = [1.5*amplitude1 + amplitude1*np.sin(alpha1*(start-h_shift)) + amplitude2*np.sin(alpha2*(start-h_shift)) ]\n",
    "    A_type = [a_type]\n",
    "    A_ID = [a_ID]\n",
    "    \n",
    "    array_size = np.ceil( (end-start)/spacing ); \n",
    "\n",
    "    while( x < end ):\n",
    "        #fprime = alpha1*amplitude1*np.cos( alpha1*(x-h_shift) )  + alpha2*amplitude2*np.cos( alpha2*(x-h_shift) ) \n",
    "        fprime = alpha1*amplitude1*np.cos( alpha1*(x-h_shift) ) # + alpha2*amplitude2*np.cos( alpha2*(x-h_shift) ) \n",
    "        dx = spacing / np.sqrt( 1 + fprime**2 )\n",
    "        \n",
    "        # how far to travel \n",
    "        x += dx;  \n",
    "        # exact y at this location \n",
    "        y = 1.5*amplitude1 + amplitude1 * np.sin( (x-h_shift)*alpha1  ) + amplitude2 * np.sin( (x-h_shift)*alpha2 ); \n",
    "        \n",
    "        X = np.concatenate( [X,[x]])\n",
    "        Y = np.concatenate( [Y,[y]])\n",
    "        A_type = np.concatenate( [A_type,[a_type]])\n",
    "        A_ID = np.concatenate( [A_ID,[a_ID]])\n",
    "        \n",
    "    return X,Y,A_type,A_ID\n"
   ]
  },
  {
   "cell_type": "code",
   "execution_count": 9,
   "id": "bbe97d5f",
   "metadata": {},
   "outputs": [],
   "source": [
    "def draw_tissue( start=20, end=380 , h_shift=0 , period=150, amplitude=20, spacing=5):\n",
    "    # BM : type = 4, ID = 0 \n",
    "    X_temp,Y_temp,A_type_temp,A_ID_temp = draw_membrane(start,end,start, period,amplitude,spacing,4,0);\n",
    "    X = X_temp\n",
    "    Y = Y_temp\n",
    "    A_type = A_type_temp; \n",
    "    A_ID = A_ID_temp; \n",
    "    \n",
    "    x = start+2.5*spacing; \n",
    "    length = 8*spacing; \n",
    "    vertical_offset = 0.75*spacing; \n",
    "    ID = 1; \n",
    "    while( x + length < end-2.5*spacing  ):\n",
    "        X_temp,Y_temp,A_type_temp,A_ID_temp = draw_membrane(x,x+length,start,period,amplitude,spacing,2,ID);\n",
    "        Y_temp = Y_temp + vertical_offset; \n",
    "        X = np.concatenate([X,X_temp])\n",
    "        Y = np.concatenate([Y,Y_temp])\n",
    "        A_type = np.concatenate([A_type,A_type_temp])\n",
    "        A_ID = np.concatenate([A_ID,A_ID_temp])\n",
    "        \n",
    "        x += length ; \n",
    "        x += 1.5*spacing; \n",
    "        ID += 1; \n",
    "            \n",
    "    # now a capillary\n",
    "    \n",
    "    vertical_offset = -4*amplitude;  \n",
    "    \n",
    "    X_temp,Y_temp,A_type_temp,A_ID_temp = draw_capillary(start,end,start, period,0.4*period,   2*amplitude,0.8*amplitude, spacing, 13,ID ); \n",
    "    Y_temp = Y_temp + vertical_offset; \n",
    "    X = np.concatenate([X,X_temp])\n",
    "    Y = np.concatenate([Y,Y_temp])\n",
    "    A_type = np.concatenate([A_type,A_type_temp])\n",
    "    A_ID = np.concatenate([A_ID,A_ID_temp])\n",
    "    \n",
    "    return X,Y,A_type,A_ID\n"
   ]
  },
  {
   "cell_type": "code",
   "execution_count": 11,
   "id": "b8781b52",
   "metadata": {},
   "outputs": [
    {
     "name": "stdout",
     "output_type": "stream",
     "text": [
      "0.041887902047863905\n",
      "0.10471975511965977\n",
      "40\n",
      "16.0\n"
     ]
    }
   ],
   "source": [
    "# X,Y,types,IDs = draw_membrane(20,380,150,20 ,5); \n",
    "X,Y,types,IDs = draw_tissue(20,380,20,150,20,2.5)\n",
    "\n"
   ]
  },
  {
   "cell_type": "code",
   "execution_count": 12,
   "id": "d5fafd4e",
   "metadata": {},
   "outputs": [
    {
     "name": "stdout",
     "output_type": "stream",
     "text": [
      "20.0,30.0,0,4,0\n",
      "\n"
     ]
    }
   ],
   "source": [
    "%matplotlib qt \n",
    "plt.figure(1)\n",
    "plt.clf()\n",
    "vert_shift = 70 \n",
    "plt.scatter( X , Y+vert_shift , c=IDs ); plt.axis( [0,400,0,400]); plt.grid() ; \n",
    "\n",
    "temp = \"%s,%s,0,%s,%s\\n\" %( X[0] , Y[0], types[0] , IDs[0] )\n",
    "print( temp )"
   ]
  },
  {
   "cell_type": "code",
   "execution_count": 13,
   "id": "3ea4f592",
   "metadata": {},
   "outputs": [],
   "source": [
    "vert_shift = 120 \n",
    "\n",
    "f = open(\"cells.csv\", \"w\")\n",
    "max_n = len(X)\n",
    "\n",
    "for n in range(0,max_n):\n",
    "    temp = \"%s,%s,0,%s,%s\\n\" %(X[n],Y[n]+vert_shift,types[n],IDs[n])\n",
    "    f.write(temp)\n",
    "f.close()\n",
    "\n"
   ]
  },
  {
   "cell_type": "code",
   "execution_count": null,
   "id": "baf087dd",
   "metadata": {},
   "outputs": [],
   "source": []
  }
 ],
 "metadata": {
  "kernelspec": {
   "display_name": "Python 3",
   "language": "python",
   "name": "python3"
  },
  "language_info": {
   "codemirror_mode": {
    "name": "ipython",
    "version": 3
   },
   "file_extension": ".py",
   "mimetype": "text/x-python",
   "name": "python",
   "nbconvert_exporter": "python",
   "pygments_lexer": "ipython3",
   "version": "3.8.8"
  }
 },
 "nbformat": 4,
 "nbformat_minor": 5
}
