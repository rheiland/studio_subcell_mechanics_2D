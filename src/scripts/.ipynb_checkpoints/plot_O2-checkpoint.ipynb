{
 "cells": [
  {
   "cell_type": "code",
   "execution_count": 6,
   "id": "3e6a48d3",
   "metadata": {},
   "outputs": [],
   "source": [
    "from pyMCDS import * \n",
    "import numpy as np \n",
    "import matplotlib.pyplot as plt "
   ]
  },
  {
   "cell_type": "code",
   "execution_count": 68,
   "id": "bcb58f9d",
   "metadata": {},
   "outputs": [
    {
     "name": "stdout",
     "output_type": "stream",
     "text": [
      "Reading ..\\output\\output00000001.xml\n",
      "Reading ..\\output\\initial_mesh0.mat\n",
      "Reading ..\\output\\output00000001_microenvironment0.mat\n",
      "Parsing oxygen data\n",
      "Reading ..\\output\\output00000001_cells_physicell.mat\n",
      "8.869177183131303\n",
      "59.80803894998643\n"
     ]
    }
   ],
   "source": [
    "mcds = pyMCDS('output00000001.xml' , '../output/')\n",
    "\n",
    "\n",
    "o2 = mcds.get_concentrations('oxygen');\n",
    "X,Y = mcds.get_2D_mesh();\n",
    "\n",
    "print( np.min(o2))\n",
    "print( np.max(o2))\n",
    "\n",
    "cx = mcds.data['discrete_cells']['position_x']\n",
    "cy = mcds.data['discrete_cells']['position_y']\n",
    "\n",
    "cell_type = mcds.data['discrete_cells']['cell_type']\n",
    "ind_epi = np.argwhere( cell_type==2).flatten(); \n",
    "ind_BM = np.argwhere(cell_type==4).flatten(); \n",
    "ind_cap = np.argwhere(cell_type==13).flatten(); \n",
    "\n",
    "\n",
    "\n",
    "%matplotlib qt \n",
    "\n",
    "plt.figure(1)\n",
    "plt.clf()\n",
    "plt.contourf( X,Y, o2[:,:,0]); \n",
    "plt.colorbar()\n",
    "ind = ind_epi\n",
    "plt.scatter(cx[ind],cy[ind],c='w',s=20)\n",
    "ind = ind_BM\n",
    "plt.scatter(cx[ind],cy[ind],c='k',s=5)\n",
    "ind = ind_cap \n",
    "# plt.scatter(cx[ind],cy[ind],c='none',edgecolors='r',s=20)\n",
    "\n",
    "plt.xlabel('x (micron)' , size=10)\n",
    "plt.ylabel('y (micron)' , size=10)\n",
    "plt.title('Oxygenation (mmHg)',size=20)\n",
    "\n",
    "plt.axis('image')\n",
    "\n",
    "plt.savefig('o2.png')"
   ]
  },
  {
   "cell_type": "code",
   "execution_count": null,
   "id": "c8ed8b26",
   "metadata": {},
   "outputs": [],
   "source": []
  }
 ],
 "metadata": {
  "kernelspec": {
   "display_name": "Python 3",
   "language": "python",
   "name": "python3"
  },
  "language_info": {
   "codemirror_mode": {
    "name": "ipython",
    "version": 3
   },
   "file_extension": ".py",
   "mimetype": "text/x-python",
   "name": "python",
   "nbconvert_exporter": "python",
   "pygments_lexer": "ipython3",
   "version": "3.8.8"
  }
 },
 "nbformat": 4,
 "nbformat_minor": 5
}
